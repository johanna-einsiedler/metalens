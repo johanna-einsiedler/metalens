{
 "cells": [
  {
   "cell_type": "code",
   "execution_count": 1,
   "metadata": {},
   "outputs": [],
   "source": [
    "import duckdb\n"
   ]
  },
  {
   "cell_type": "code",
   "execution_count": 3,
   "metadata": {},
   "outputs": [
    {
     "data": {
      "text/plain": [
       "┌──────────────────────────┬────────┬────────┬────────┬────────┬─────────┬────────┐\n",
       "│       study_names        │   n    │  tval  │ preds  │   R2   │ measure │   vi   │\n",
       "│         varchar          │ uint64 │ double │ uint64 │ double │ double  │ double │\n",
       "├──────────────────────────┼────────┼────────┼────────┼────────┼─────────┼────────┤\n",
       "│ Abu-Bader (2000)         │    218 │   4.61 │      4 │   0.24 │  0.3012 │ 0.0039 │\n",
       "│ Cole et al. (2004)       │    232 │   6.19 │      7 │  0.455 │  0.3822 │ 0.0032 │\n",
       "│ Wallach & Mueller (2006) │    156 │   4.07 │      6 │    0.5 │  0.3163 │ 0.0054 │\n",
       "│ Weaver et al. (2007)     │    382 │  -0.77 │     19 │  0.327 │ -0.0404 │ 0.0027 │\n",
       "│ Acker (2004)             │    259 │   1.16 │     15 │  0.117 │  0.0742 │ 0.0041 │\n",
       "└──────────────────────────┴────────┴────────┴────────┴────────┴─────────┴────────┘"
      ]
     },
     "execution_count": 3,
     "metadata": {},
     "output_type": "execute_result"
    }
   ],
   "source": [
    "duckdb.read_json(\"test_string_input.json\")              # read a JSON file into a Relation\n"
   ]
  },
  {
   "cell_type": "code",
   "execution_count": 5,
   "metadata": {},
   "outputs": [
    {
     "name": "stdout",
     "output_type": "stream",
     "text": [
      "┌──────────────────────────┬────────┬────────┬────────┬────────┬─────────┬────────┐\n",
      "│       study_names        │   n    │  tval  │ preds  │   R2   │ measure │   vi   │\n",
      "│         varchar          │ uint64 │ double │ uint64 │ double │ double  │ double │\n",
      "├──────────────────────────┼────────┼────────┼────────┼────────┼─────────┼────────┤\n",
      "│ Abu-Bader (2000)         │    218 │   4.61 │      4 │   0.24 │  0.3012 │ 0.0039 │\n",
      "│ Cole et al. (2004)       │    232 │   6.19 │      7 │  0.455 │  0.3822 │ 0.0032 │\n",
      "│ Wallach & Mueller (2006) │    156 │   4.07 │      6 │    0.5 │  0.3163 │ 0.0054 │\n",
      "│ Weaver et al. (2007)     │    382 │  -0.77 │     19 │  0.327 │ -0.0404 │ 0.0027 │\n",
      "│ Acker (2004)             │    259 │   1.16 │     15 │  0.117 │  0.0742 │ 0.0041 │\n",
      "└──────────────────────────┴────────┴────────┴────────┴────────┴─────────┴────────┘\n",
      "\n"
     ]
    }
   ],
   "source": [
    "# create a connection to a file called 'file.db'\n",
    "con = duckdb.connect(\"study_data.db\")\n",
    "# create a table and load data into it\n",
    "con.sql(\"DROP TABLE TEST\")\n",
    "con.sql(\"CREATE TABLE test AS SELECT * FROM 'test_string_input.json'\")\n",
    "#con.sql(\"INSERT INTO test VALUES (42)\")\n",
    "# query the table\n",
    "#con.table(\"test\").show()\n",
    "# explicitly close the connection\n",
    "con.close()"
   ]
  },
  {
   "cell_type": "code",
   "execution_count": 6,
   "metadata": {},
   "outputs": [
    {
     "name": "stdout",
     "output_type": "stream",
     "text": [
      "(b'DUCK', 43)\n"
     ]
    }
   ],
   "source": [
    "import struct\n",
    "\n",
    "pattern = struct.Struct('<8x4sQ')\n",
    "\n",
    "with open('study_data.db', 'rb') as fh:\n",
    "    print(pattern.unpack(fh.read(pattern.size)))"
   ]
  },
  {
   "cell_type": "code",
   "execution_count": null,
   "metadata": {},
   "outputs": [],
   "source": [
    "import struct\n",
    "\n",
    "pattern = struct.Struct('<8x4sQ')\n",
    "\n",
    "with open('test/sql/storage_version/storage_version.db', 'rb') as fh:\n",
    "    print(pattern.unpack(fh.read(pattern.size)))"
   ]
  }
 ],
 "metadata": {
  "kernelspec": {
   "display_name": "chat-gpt",
   "language": "python",
   "name": "python3"
  },
  "language_info": {
   "codemirror_mode": {
    "name": "ipython",
    "version": 3
   },
   "file_extension": ".py",
   "mimetype": "text/x-python",
   "name": "python",
   "nbconvert_exporter": "python",
   "pygments_lexer": "ipython3",
   "version": "3.11.4"
  }
 },
 "nbformat": 4,
 "nbformat_minor": 2
}
